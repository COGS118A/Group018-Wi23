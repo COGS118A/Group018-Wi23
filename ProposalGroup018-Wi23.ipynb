{
 "cells": [
  {
   "cell_type": "markdown",
   "metadata": {},
   "source": [
    "# COGS 118A- Project Proposal"
   ]
  },
  {
   "cell_type": "markdown",
   "metadata": {},
   "source": [
    "# Project Description\n",
    "\n",
    "You will design and execute a machine learning project. There are a few constraints on the nature of the allowed project. \n",
    "- The problem addressed will not be a \"toy problem\" or \"common training students problem\" like mtcars, iris, palmer penguins etc.\n",
    "- The dataset will have >1k observations and >5 variables. I'd prefer more like >10k observations and >10 variables. A general rule is that if you have >100x more observations than variables, your solution will likely generalize a lot better. The goal of training a supervised machine learning model is to learn the underlying pattern in a dataset in order to generalize well to unseen data, so choosing a large dataset is very important.\n",
    "\n",
    "- The project will include a model selection and/or feature selection component where you will be looking for the best setup to maximize the performance of your ML system.\n",
    "- You will evaluate the performance of your ML system using more than one appropriate metric\n",
    "- You will be writing a report describing and discussing these accomplishments\n",
    "\n",
    "\n",
    "Feel free to delete this description section when you hand in your proposal."
   ]
  },
  {
   "cell_type": "markdown",
   "metadata": {},
   "source": [
    "### Peer Review\n",
    "\n",
    "You will all have an opportunity to look at the Project Proposals of other groups to fuel your creativity and get more ideas for how you can improve your own projects. \n",
    "\n",
    "Both the project proposal and project checkpoint will have peer review."
   ]
  },
  {
   "cell_type": "markdown",
   "metadata": {},
   "source": [
    "# Names\n",
    "\n",
    "Hopefully your team is at least this good. Obviously you should replace these with your names.\n",
    "\n",
    "- Simon Zheng\n",
    "- Albert Henderson\n",
    "- Zhengyuan Zhou\n",
    "- Abhinav Chandra\n",
    "- Sung Cho"
   ]
  },
  {
   "attachments": {},
   "cell_type": "markdown",
   "metadata": {},
   "source": [
    "# Abstract \n",
    "The goal of this project is to develop a machine-learning algorithm that can accurately classify stars into galaxies, quasars, and stars. The dataset used is the Sloan Digital Sky Survey (SDSS), and it contains observations of stars including 17 feature columns and 1 class column. We will preprocess the data by cleaning and extracting useful features before training a machine learning algorithm, specifically the K-nearest neighbors method(KNN), to classify the stars. The primary measure of success will be accuracy in correctly classifying the stars, which can be described as the total number of correct classifications over the total number of observations. We believe that through this project, we can develop a way to classify stars more accurately and more efficiently, thus enhancing our understanding of the universe and even possibly narrowing the range of habitable planets.\n"
   ]
  },
  {
   "attachments": {},
   "cell_type": "markdown",
   "metadata": {},
   "source": [
    "# Background\n",
    "\n",
    "Kepler-438b is a rocky planet discovered in 2015 that is located 640 light-years from Earth in the constellation Lyra, with a mass of 1.46 Earths<sup>[1]</sup>. What makes it special is that Kepler-438b locates right on the habitable zone of its parent star (0.166 AU), making the temperature just right for water to exist in a liquid state<sup>[2]</sup>. This means that if one day humans have to migrate to another planet, Kepler-438b becomes a potential second earth, and this finding can also indicate that life might exist on Kepler-438b. \n",
    "\n",
    "Other than Kepler-438b, scientists have found 11 more small Kepler transiting planets located in the habitable zone, and using techniques such as big data analysis and supervised machine learning, we could possibly find more habitable planets with higher efficiency compared to traditional methods of stellar classification. Bailer-Jones, for instance, pointed out in their paper that “current and future large astronomical surveys will yield multiparameter databases on millions or even billions of objects”<sup>[3]</sup>, which is why it becomes necessary to let computers do the work instead of manually classifying and labeling all the stars. They also discussed how the technique of unsupervised machine learning does not work well, because it produces “natural groupings” instead of groupings based on definitions provided by astrologists. \n",
    "\n",
    "Similarly, Baqui also acknowledged the challenges presented with large datasets and successfully implemented machine learning algorithms such as K-nearest neighbors, decision trees, random forest (RF), and artificial neural networks to train and classify stars<sup>[4]</sup>. With these previous successful examples, we believe that we can also use supervised machine learning algorithms to classify galaxies, quasars, and stars using features such as ascension, declination, or filters of the photometric system<sup>[5]</sup>. Though challenges such as outlier detection and handling sparse datasets commonly exist for the task of stellar classification<sup>[6]</sup>, we will do our best to address these problems."
   ]
  },
  {
   "cell_type": "markdown",
   "metadata": {},
   "source": [
    "# Problem Statement\n",
    "\n",
    "The vast universe has always fascinated us, and we have been exploring the stars and galaxies for centuries. What if we could develop a machine learning model that could accurately classify astronomical objects based on their spectral characteristics?\n",
    "\n",
    "Our goal is to build a state-of-the-art model that can accurately classify stars, galaxies, and quasars using the SDSS dataset. With 17 feature columns and 1 class column, we have a treasure trove of information waiting to be unlocked. Imagine being able to predict the class of an astronomical object with high accuracy, opening up a new era of space exploration and discovery.\n",
    "\n",
    "We can use advanced techniques like deep learning and ensemble models to achieve the highest accuracy possible. With cutting-edge evaluation techniques like cross-validation and hyperparameter tuning, we can fine-tune our model to perfection. We can measure the accuracy of our model using precision, recall, F1 score, and confusion matrix, and we can observe the performance of our model through testing."
   ]
  },
  {
   "cell_type": "markdown",
   "metadata": {},
   "source": [
    "# Data\n",
    "\n",
    "The dataset that we are planning to work with is the 17th data release of the Sloan Digital Sky Survey, and it can be found [here](https://www.kaggle.com/datasets/fedesoriano/stellar-classification-dataset-sdss17). This data was collected to perform a stellar classification task and it contains 100000 observations. Each observation contains 17 feature variables that describe various aspects of the observation and 1 class variable that labels the class of the observation as either a galaxy, star, or quasar object. \n",
    "\n",
    "Of the 17 features that each observation has, 5 of these features are used for identification of the observation (obj_id, run_id, rerun_id, field_id, spec_obj_id) and 4 other features are used to describe different aspects about how the data was captured.(cam_col, plate, MJD, fiber_ID). The features used for identification help researchers keep track of each observation, which is an arduous task with 100000 observation. The features used to describe data collection are also critical for researchers to keep track of as they detail the circumstances that led to the recording of each observation. However, for a machine learning classification task, this data is not of utmost importance. The remaining 8 variables are all crucial to classifying the celestial body. These variables are:\n",
    "\n",
    "- alpha: Right ascension angle at J200 epoch\n",
    "- delta: Declination angle at J200 epoch\n",
    "- u: ultraviolet filter in the photometric system\n",
    "- g: green filter in the photometric system\n",
    "- r: red filter in the photometric system\n",
    "- i: near infrared filter in the photometric system\n",
    "- z: infrared filter in the photometric system\n",
    "- redshift: redshift value based on the increase in wavelength\n",
    "\n",
    "All of these variables hold continuous floating point values, so they will be normalized using z-scores. The class feature that labels the observation is a categorical feature, and this will be one hot encoded. \n",
    "\n",
    "As far as cleaning this dataset, the features used for identification and to describe data collection will likely be dropped. The obj_id field may be kept to ensure there is one identification field. This would result in the dataset being cut down to 10 variables in total, with 8 feature variables, 1 identification variable, and 1 class variable. Also, using all 100000 observations may prove to be too much of a computational burden to work with, in which case we would randomly sample a smaller subset of the larger dataset and work with that to build our classifier."
   ]
  },
  {
   "cell_type": "markdown",
   "metadata": {},
   "source": [
    "# Proposed Solution\n",
    "\n",
    "To solve the classification problem of astronomical objects, we propose building a K-nearest neighbors (KNN) model using cross-validation to benchmark our model. \n",
    "\n",
    "We will start by preprocessing the data, which includes normalizing the feature columns and converting the class column into categorical labels. We will then use cross-validation to split the dataset into training and testing sets, ensuring that the data is well-distributed across both sets.\n",
    "\n",
    "For the KNN model, we will choose the number of neighbors (k) based on the performance on the validation set. We will use a distance metric, such as Euclidean or Manhattan, to calculate the distance between data points. We will train the KNN model using the training set and evaluate its performance on the testing set. We will use accuracy as the primary metric to evaluate the performance of the KNN model. We will also report the precision, recall, and F1 score to assess the model's performance in each class."
   ]
  },
  {
   "cell_type": "markdown",
   "metadata": {},
   "source": [
    "# Evaluation Metrics\n",
    "\n",
    "Accuracy is the primary metric we will use to quantify performance. Accuracy is a measure of the proportion of observations that were classified correctly. In the case of a binary classification, it could be represented like this:\n",
    "$$Accuracy = \\frac{True Positives + True Negatives}{Total No. of Observations}$$\n",
    "However, our classifier is working with multiple classes, so calculating accuracy for our classifier would be to alter the equation to:\n",
    "$$Accuracy = \\frac{Total No. of Correct Classifications}{Total No. of Observations}$$\n",
    "For example, if our model is being tested on 100 observations, and 26 were correctly classified as stars, 28 were correctly classified as galaxies, and 36 were correctly classified as quasar objects, the accuracy would be 0.80. Accuracy is a good measure for this task since our main goal is to classify as many observations correctly as possible.\n",
    "\n",
    "The F1 score, precision, and recall would also be a useful to help gain a better insight on specific aspects of model performance. These metrics can be calculated by:\n",
    "\n",
    "$$precision = \\frac{True Positives}{True Positive + False Positives}$$\n",
    "\n",
    "$$recall = \\frac{True Positives}{True Positives + False Negatives}$$\n",
    "\n",
    "$$F1 = \\frac{2(precison)(recall)}{precision + recall}$$\n",
    "\n",
    "Precision gives us the proportion of objects that have been correctly classified with respect to all the objects that have been classified in that class. Recall gives us what proportion of a certain class has been correctly classified. F1 score gives us a harmonic mean of precision and recall. Because this is a multi class classifier, this metrics can be measured for each class. For example, out of a 100 objects labelled as galaxies by our classifier, if 93 are actually galaxies, precision is 0.93. Similarly, for 100 actual galaxies, if 88 are correctly classified as galaxies, recall is 0.88. The F1 score would then be 0.90."
   ]
  },
  {
   "cell_type": "markdown",
   "metadata": {},
   "source": [
    "# Ethics & Privacy"
   ]
  },
  {
   "cell_type": "markdown",
   "metadata": {},
   "source": [
    "The \"Stellar Classification\" project aims to use a dataset found on Kaggle to develop a machine learning model that can accurately classify celestial objects as galaxies, stars, or quasars. Like any project that deals with data and technology, there are several ethical and privacy considerations that need to be taken into account to ensure that the project is conducted responsibly and without causing harm to any individuals or groups.\n",
    "\n",
    "Since the dataset used in the project was obtained through observations from the Sloan Digital Sky Survey, it is important to carefully analyze the dataset to detect and address any potential biases that may exist in the data.\n",
    "\n",
    "The machine learning model should be designed in a way that is fair to all groups, without discriminating against any specific demographic. The model does not unfairly benefit one group over another, and that it is not used to discriminate against individuals or groups since it is merely a study of stellar objects.\n",
    "\n",
    "The machine learning model should be transparent and explainable, meaning that it is possible to understand how it works and how it makes classification decisions to prevent the model from being used in inappropriate ways.\n",
    "\n",
    "Personal information does not exist in the dataset to prevent the identification of individuals and protect privacy.\n",
    "\n",
    "In terms of data security, the datasets is published online transparently, so there is no potential problems such as unauthorized access, modification, or disclosure of the data.\n",
    "\n",
    "Individuals included in the dataset should be informed about how their data will be used and provided with the option to opt-out of having their data used in the project. Informed consent is critical to protecting the privacy of individuals and to ensuring that the project is conducted ethically. Since the dataset is officially published by Sloan Digital Sky Survey, it should be considered that everyone already given consent of the usage of this public dataset presumably.\n",
    "\n",
    "In conclusion, the project will be conducted with a strong emphasis on ethics and privacy to ensure that it is conducted responsibly and does not cause harm to individuals or groups. The project should be designed to be fair and transparent, with appropriate measures taken to protect the privacy of individuals included in the dataset. By taking these steps, the project can be conducted in an ethical and responsible manner, while still achieving its scientific objectives."
   ]
  },
  {
   "cell_type": "markdown",
   "metadata": {},
   "source": [
    "# Team Expectations "
   ]
  },
  {
   "cell_type": "markdown",
   "metadata": {},
   "source": [
    "Put things here that cement how you will interact/communicate as a team, how you will handle conflict and difficulty, how you will handle making decisions and setting goals/schedule, how much work you expect from each other, how you will handle deadlines, etc...\n",
    "* *Team Expectation 1*\n",
    "* *Team Expectation 2*\n",
    "* *Team Expecation 3*\n",
    "* ..."
   ]
  },
  {
   "cell_type": "markdown",
   "metadata": {},
   "source": [
    "# Project Timeline Proposal"
   ]
  },
  {
   "attachments": {},
   "cell_type": "markdown",
   "metadata": {},
   "source": [
    "Replace this with something meaningful that is appropriate for your needs. It doesn't have to be something that fits this format.  It doesn't have to be set in stone... \"no battle plan survives contact with the enemy\". But you need a battle plan nonetheless, and you need to keep it updated so you understand what you are trying to accomplish, who's responsible for what, and what the expected due dates are for each item.\n",
    "\n",
    "| Meeting Date  | Meeting Time| Completed Before Meeting  | Discuss at Meeting |\n",
    "|---|---|---|---|\n",
    "| 3/1  |  4 PM |  Submit Project Proposal |Discuss Objectives for the week and assign task to each member | \n",
    "| 3/7 |  4 PM |  Have assigned section finished or close to completed |Discuss what else needs to be done before checkpoint submission| \n",
    "| 3/13  | 4 PM  | Noticable progress or revision on each section of project | Discuss how things are going and what else needs to be done |\n",
    "| 3/19 | 4 PM  | More work on assigned sections | Review the project overall and see if any revisions or changes need to be made before submission |\n",
    "| 3/21  | 4 PM  | Finished each section of the project | Go over and check the project one last time before submission |"
   ]
  },
  {
   "attachments": {},
   "cell_type": "markdown",
   "metadata": {},
   "source": [
    "# Footnotes\n",
    "\n",
    "<a name=\"footnote1\"></a><sup>[1]</sup> NASA. (n.d.). Exoplanet-catalog – exoplanet exploration: Planets beyond our solar system. NASA. Retrieved February 22, 2023, from https://exoplanets.nasa.gov/exoplanet-catalog/5269/kepler-438-b/ \n",
    "\n",
    "<a name=\"footnote2\"></a><sup>[2]</sup> Torres, G., Kipping, D. M., Fressin, F., Caldwell, D. A., Twicken, J. D., Ballard, S., ... & Quintana, E. V. (2015). Validation of 12 small Kepler transiting planets in the habitable zone. The Astrophysical Journal, 800(2), 99.\n",
    "\n",
    "<a name=\"footnote3\"></a><sup>[3]</sup> Bailer-Jones, C. A. (2001). Automated stellar classification for large surveys: a review of methods and results. arXiv preprint astro-ph/0102223.\n",
    "\n",
    "<a name=\"footnote4\"></a><sup>[4]</sup> Baqui, P. O., Marra, V., Casarini, L., Angulo, R., Diaz-Garcia, L. A., Hernández-Monteagudo, C., ... & Taylor, K. (2021). The miniJPAS survey: star-galaxy classification using machine learning. Astronomy & Astrophysics, 645, A87. \n",
    "\n",
    "<a name=\"footnote5\"></a><sup>[5]</sup> Saifuddin, M. (2023, January 3). Stellar classification: A machine learning approach. Medium. Retrieved February 22, 2023, from https://towardsdatascience.com/stellar-classification-a-machine-learning-approach-5e23eb5cadb1 \n",
    "\n",
    "<a name=\"footnote5\"></a><sup>[6]</sup> Shrinivas Kulkarni's webpage. (n.d.). Retrieved February 22, 2023, from https://sites.astro.caltech.edu/~srk/ "
   ]
  }
 ],
 "metadata": {
  "kernelspec": {
   "display_name": "Python 3",
   "language": "python",
   "name": "python3"
  },
  "language_info": {
   "codemirror_mode": {
    "name": "ipython",
    "version": 3
   },
   "file_extension": ".py",
   "mimetype": "text/x-python",
   "name": "python",
   "nbconvert_exporter": "python",
   "pygments_lexer": "ipython3",
   "version": "3.8.5"
  }
 },
 "nbformat": 4,
 "nbformat_minor": 2
}
